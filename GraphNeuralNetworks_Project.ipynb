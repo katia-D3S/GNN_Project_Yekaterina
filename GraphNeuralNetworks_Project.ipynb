{
  "cells": [
    {
      "cell_type": "markdown",
      "id": "d0c3494a-0f3d-4bb7-8f10-46bf4fcf981f",
      "metadata": {
        "id": "d0c3494a-0f3d-4bb7-8f10-46bf4fcf981f"
      },
      "source": [
        "# Graph Neural Network Project (** Difficulty)\n",
        "### Yekaterina Drozd D3S\n",
        "\n",
        " #### Overview\n",
        "This project is designed to explore **Graph Neural Networks (GNNs)**, a specialized type of neural network that directly operates on graph structures. I will focus on understanding graph theory fundamentals, GNN mechanics, graph convolutions, and graph pooling.\n",
        "\n",
        "The project will involve applying a GNN to the ZINC dataset using PyTorch Geometric.\n",
        "\n",
        " #### Objectives\n",
        " #### Understanding Graph Theory and GNNs:\n",
        " - Explain the concept of a graph in mathematical terms, including nodes and edges.\n",
        " - Introduce Graph Neural Networks, detailing how they differ from traditional neural\n",
        " networks and their specific applications.\n",
        "\n",
        " #### Graph Convolution and Pooling:\n",
        " - Explain graph convolution how it extends the idea of convolution from images to graphs.\n",
        " - Detail graph pooling and its role in reducing graph size while maintaining essential\n",
        " features.\n",
        "\n",
        " #### PyTorch Geometric Implementation:\n",
        " - Utilize PyTorch Geometric to create and train a GNN on the ZINC dataset.\n",
        " - Focus on designing network architectures suitable for chemical compound property\n",
        " prediction, which is the primary application of the ZINC dataset.\n",
        "\n",
        " #### Performance Evaluation:\n",
        " - Evaluate the GNN model based on its predictive accuracy.\n",
        "   \n",
        " #### Advanced Exploration (Optional):\n",
        " - Implement a graph transformer model from scratch, as described in the provided\n",
        " research paper.\n",
        " - Compare its performance and characteristics with the standard GNN model.\n",
        " Expected Deliverables\n",
        "\n",
        " #### Code Implementations:\n",
        " - Python code for the GNN model using PyTorch Geometric and the ZINC dataset.\n",
        " - Optional implementation of a graph transformer model.\n",
        "   \n",
        " #### Technical Reports:\n",
        " - A detailed explanation of graph theory, GNNs, graph convolution, and pooling.\n",
        " - Reports on model performance, including accuracy and computational efficiency.\n",
        "\n",
        " #### Documentation:\n",
        " - README.md: A summary document outlining the project’s objectives, methods, and key\n",
        " results.\n",
        " - A comprehensive report detailing the theoretical background, practical implementation,\n",
        " and analysis of the results.\n",
        "\n",
        "\n",
        " #### Resources and References\n",
        " Graph Transformer Paper:\n",
        " https://proceedings.neurips.cc/paper_files/paper/2019/file/9d63484abb477c97640154d4\n",
        " 0595a3bb-Paper.pdf\n",
        " ZINC Dataset Documentation:\n",
        " https://pytorch-geometric.readthedocs.io/en/latest/generated/torch_geometric.datasets.Z\n",
        " INC.html\n",
        " PyTorch Geometric GitHub: https://github.com/pyg-team/pytorch_geometric\n",
        " Tutorial on GNNs:\n",
        " https://www.datacamp.com/tutorial/comprehensive-introduction-graph-neural-networks-g\n",
        " nns-tutorial\n",
        " Review on Graph Neural Networks: https://arxiv.org/pdf/1812.08434.pdf\n"
      ]
    },
    {
      "cell_type": "markdown",
      "id": "2uFO8TE5hb1j",
      "metadata": {
        "id": "2uFO8TE5hb1j"
      },
      "source": [
        "### 1. Understanding Graph Theory and GNN\n",
        "\n",
        "#### What is Graph Theory?\n",
        "\n",
        "A graph is a complex data structure used to represent objects and the relationships between them. A graph consists of a set of nodes and edges (or links). The edges connect the different nodes to each other. Edges can be directed or undirected. In a directed graph, the edges have a direction indicating the orientation of the relationship, whereas in an undirected graph, the edges have no direction. More concretely, nodes can represent users in a social network, while links correspond to friendships between users. A graph can also be seen as the structure of a molecule or a transportation network.\n",
        "\n",
        "In the case of Graph Neural Networks (GNNs), a graph uses feature vectors (known as embeddings) to encode all the information related to the graph, such as its structure and relationships. These embeddings create a numerical representation of a graph, which can then be used to train Machine Learning algorithms. Graph neural networks are widely used in node classification and link prediction.\n",
        "\n",
        "In a graph, there are two types of embeddings: node embeddings and edge embeddings. Node embeddings represent the properties of each node, while edge embeddings are used to model the properties of the relationships between nodes.\n",
        "\n",
        "Graph Theory is a branch of mathematics that studies graphs. Graphs are widely used to model relationships and connections between entities across various domains, such as social networks, transportation systems, biology, and computer science.\n",
        "\n",
        "### Key Concepts in Graph Theory\n",
        "\n",
        "Every graph is defined by nodes and edges. Nodes, or also called as Vertices), are fundamental units in a graph, representing entities (e.g., people, places, items). Edges, or Links are connections between nodes that represent relationships or interactions.\n",
        "\n",
        "Graphs could be either homogenous or heterogenous, directed or undirected, static or dynamic. In directed graphs, edges have a direction (e.g., a one-way street), whereas in undirected graphs, edges are bidirectional (e.g., a friendship). Homogenous graphs are those that ignore the node/edge types and treat them as if it is a standard graph with one types of nodes and edges. Usually this is a naive assumption in some GNN applications. The graph is dynamic when the input features of the graph vary with time.\n",
        "![image](https://github.com/user-attachments/assets/8f80217d-2d0d-47d9-aaa6-2b3065faac22)\n",
        "\n",
        "Graphs are versatile and can model complex, interconnected data effectively. They form the foundation for Graph Neural Networks (GNNs), a type of neural network that operates directly on graph-structured data.\n",
        "\n",
        "There are usually two scenarios: structural scenarios and non-structural scenarios. In structural scenarios, the graph structure is explicit like in applications on molecules, physical systems, ect. In non-structural scenarios, graphs are implicit so that we have to first build the graph from the task. After we get the graph, the later design process attempts to find an optimal GNN model on this specific graph.\n",
        "\n",
        "#### What are Graph Neural Networks (GNNs)?\n",
        "\n",
        "GNNs are a class of deep learning models designed to handle graph-structured data. Unlike traditional neural networks, which work with regular data structures like images (grids) or text (sequences), GNNs can learn from data with arbitrary connectivity, allowing them to capture complex relationships between entities.\n",
        "\n",
        "GNNs work by passing messages between nodes in a graph to learn representations of nodes, edges, or the entire graph structure. Each node collects information from its connected nodes (neighbors) by aggregating features. During each layer (or iteration), a node aggregates information from its neighbors, capturing local and global structural information.\n",
        "\n",
        "After message passing, information is combined from neighboring nodes, typically using functions like summing or averaging. The aggregated information is used to update the node's representation, capturing its structure and properties.\n",
        "\n",
        "This process is repeated over several layers, allowing information to propagate through the graph.\n",
        "\n",
        "After a few rounds of message passing, each node's representation encodes information from its neighbors and the larger graph structure. Training GNN looks something like this:\n",
        "\n",
        "![image](https://github.com/user-attachments/assets/b6603808-4ab8-4f22-b8b8-e7aadbf3c80a)\n",
        "\n",
        "\n",
        "##### Types of GNN Models - Spatial and Spectral paradigms\n",
        "\n",
        "Firstly, graph convolutions differ in the type of information they can use. Some convolutions utilize only the hidden representations of nodes, ignoring information on the edges. Others process information from edges of different types in various ways. Additionally, there are convolutions that use information from both edges and nodes, simultaneously updating both.\n",
        "\n",
        "Secondly, and more importantly, graph convolutions can be divided into two families based on the mathematical paradigm in which they operate. These are the spatial and spectral approaches. Spatial convolutions are based on the message-passing paradigm, whereas spectral convolutions work with the graph Laplacian and its eigenvectors.\n",
        "\n",
        "In practice, spectral convolutions are more commonly used and tend to show better performance in tasks involving a single large graph, where understanding the relative position of a node within the graph is critical. Examples include social network graphs or citation graphs. On the other hand, spatial convolutions perform well in tasks where identifying local substructures within the graph is crucial.\n",
        "\n",
        "Despite the fundamental differences between these two approaches, there are active efforts to combine them into a unified paradigm.\n",
        "\n",
        "\n",
        "![image](https://github.com/user-attachments/assets/d7761127-27be-4843-a62b-8e235b9a830e)\n",
        "\n",
        "The **spatial paradigm** is based on the message-passing algorithm between the vertices of a graph.\n",
        "\n",
        "The concept of this approach is as follows: each vertex in the graph has an internal state. At each iteration, this internal state is updated based on the internal states of its neighboring vertices. Each neighbor influences the state of the vertex, just as the vertex influences the states of its neighbors. One iteration of the message-passing approach for a single vertex can be described by the following abstract algorithm. For each vertex $v$, all triplets ($𝑥_𝑣$,$x_w$,$e_wv$) are collected. These triplets consist of the hidden representation of the current vertex $x_v$, the hidden representation of its neighbor $x_w$, and the edge type $e_wv$ connecting the current vertex and its neighbor. A trainable transformation $M$ (short for \"message\") is then applied to all these triplets to compute the message — the information being passed from the neighbor to the vertex.\n",
        "\n",
        "The computed messages are aggregated into a single one, denoted as $m_v$. The aggregation can be done using any associative operation, such as element-wise minimum, maximum, or mean. Finally, the aggregated message and the current internal state of the vertex are fed into a trainable operation $U$ (short for \"update\"), which updates the internal state of the vertex.\n",
        "\n",
        "The specific implementations of the $M$ and $U$ operations directly depend on the algorithm and the task it is designed to solve.\n",
        "\n",
        "\n",
        "![image](https://github.com/user-attachments/assets/1fd22979-574e-4c08-96d3-cacb7069c688)\n",
        "\n",
        "Some of the well-known algorithms based on spatial paradigm are GraphSAGE,GIN (Graph Isomorphism Network), GAT (Graph Attention Network), and many others.\n",
        "\n",
        "\n",
        "The opposite of the **spatial paradigm** is the spectral paradigm. The spectral paradigm is based on analyzing the process of signal diffusion within a graph and examining matrices that describe the graph—namely, the adjacency matrix and the graph Laplacian. The graph Laplacian is defined as $L =D-A$, where $D$ is a diagonal matrix, with the $i$-th diagonal entry storing the number of edges originating from the $i$-th vertex, and $A$ is the adjacency matrix of the graph. The $(i,j)$-th element of $A$ represents the number of edges connecting vertex $i$ to vertex $j$.\n",
        "\n",
        "The graph Laplacian has non-negative eigenvalues. The number of zero eigenvalues always matches the number of connected components in the graph. An extraordinary property of the Laplacian is that its eigenvectors corresponding to positive eigenvalues, ordered by ascending eigenvalues, describe graph cuts—divisions of the graph into two halves such that the number of edges between the two halves is minimized.\n",
        "\n",
        "For example, the eigenvector corresponding to the smallest positive eigenvalue describes a bipartition of the graph. Positive elements of this vector indicate the vertices that should belong to the first cluster, while negative elements correspond to the vertices that should belong to the second cluster.\n",
        "\n",
        "This property of the graph Laplacian is utilized to perform unsupervised graph clustering. The process involves the following steps:\n",
        "\n",
        "Compute the Laplacian $L$ of the adjacency matrix $A$. Calculate $k$ eigenvectors corresponding to the smallest eigenvalues.\n",
        "Form a matrix of size $Nxk$, where each row describes a vertex with $k$ features. Cluster the objects represented by this matrix (e.g., using the K-Means algorithm).\n",
        "Thus, the spectral approach is particularly suited for identifying components within a graph where vertices are densely connected and share similar properties.\n",
        "\n",
        "\n",
        "![image](https://github.com/user-attachments/assets/45af220d-6768-4d55-8086-d7e7c68b98b4)\n",
        "\n",
        "In the spectral paradigm, graph convolutions are typically defined in terms of the graph Laplacian and its eigenvectors. Thus, Graph Convolutional Networks (GCNs) are inspired by spectral approach.\n",
        "\n",
        "\n",
        "Let's have a closer look on some of the GNN types.\n",
        "Graph Transformer Networks (GTNs) generate new graph structures which involve identifying useful connections between unconnected nodes on the original graph, while learning effective node representation on the new graphs in an end-to-end fashion. Graph Attention Networks (GATs) use attention mechanisms to weigh the importance of neighboring nodes.\n",
        "\n",
        "Graph Convolutional Networks (GCNs) extend convolutional neural networks to graphs by using spectral methods to define convolutions on graphs. GCN uses only  the hidden states of nodes $h$ and the adjacency matrix $A$. It considers only the presence or absence of edges in the graph, without incorporating edge features.\n",
        "\n",
        "From a mathematical perspective, GCN is quite simple. It represents one step of an iterative process for finding the eigenvalues of the graph Laplacian: we take the hidden representations of nodes and multiply them by the normalized adjacency matrix — the matrix $A$\n",
        "A is pre- and post-multiplied by the square root of the degree matrix $D$. This step is applied to all channels of the node's hidden representation. After this step, the updated hidden representations are further multiplied by a learnable weight matrix $\\Theta$:\n",
        "\n",
        "$$\n",
        "h^{(t+1)} = \\Theta D^{-1/2} (A + I) D^{-1/2} h^{(t)}\n",
        "$$\n",
        "\n",
        "Here, \\(h^{(j)}\\) is a matrix of size \\((\\text{number of nodes}) \\times (\\text{representation vector length})\\), meaning the convolution is applied separately to each \"channel\" of the representations.\n",
        "\n",
        "If we want to work with multiple channels, i.e., instead of \\(h^{(t)}\\) we have a matrix \\(H^{(t)}\\) of size \\((\\text{number of nodes}) \\times (\\text{number of channels})\\), and if we add a nonlinearity \\(f\\), the formula becomes:\n",
        "\n",
        "$$\n",
        "H^{(t+1)} = f(D^{-1/2} (A + I) D^{-1/2} H^{(t)} \\Theta)\n",
        "$$\n",
        "\n",
        "Graph Attention Networks (GAT) build upon the idea of GraphSAGE. Instead of a simple aggregation mechanism, GAT introduces the attention mechanism, where the transformation matrices for keys, values, and queries are the same and denoted by the matrix $W$. Like in GraphSAGE, the aggregated message is passed through a sigmoid activation function but is not multiplied by a learnable matrix beforehand.\n",
        "\n",
        "The attention coefficients $\\alpha_{v*}$ and the updated node representation $h_v^{t+1}$ are computed as follows:\n",
        "\n",
        "$$\n",
        "\\alpha_{v*} = \\text{softmax}\\left(\\text{act}\\left(a^T \\text{CONCAT}(W h_v^t, W h_*^t)\\right)\\right)\n",
        "$$\n",
        "\n",
        "$$\n",
        "h_v^{t+1} = \\sigma\\left(\\sum_{w \\in N(v)} \\alpha_{vw} W h_w^t\\right)\n",
        "$$\n",
        "\n",
        "Here:\n",
        "- $\\text{act}$ is an activation function.\n",
        "- $v$ is the node for which the representation is being updated.\n",
        "- $w$ represents all the neighboring nodes of $v$ ($N(v)$).\n",
        "- $\\alpha_{vw}$ are the attention weights indicating how important the information from node $w$ is for node $v$.\n",
        "\n",
        "Similar to attention mechanisms used for sequences, the attention mechanism in GAT \"looks\" at all other nodes $w$ during the update for node $v$, generating weights $\\alpha_{vw}$ that determine which nodes are more important.\n",
        "\n",
        "Due to the power and flexibility of the attention mechanism, GAT has shown excellent performance across various tasks and has become one of the most popular convolution methods. By default, GAT, like GraphSAGE, uses only node features. However, in some applications, modified versions of GAT incorporate edge information into the attention mechanism.\n",
        "\n",
        "##### Applications of GNNs\n",
        "\n",
        "Graphs are used as denotation of a large number of systems across various areas including social science, protein-protein interaction networks, and many other research areas. GNNs are useful in any domain that involves graph-structured data. For example, modeling relationships, predicting molecular properties, modeling physics systems, classifying diseases, detecting patterns in transportation system, etc.\n",
        "\n",
        "For example, a citation network where types of nodes could be authors, conferences, papers, and edges are defined by their relations.\n",
        "\n",
        "![image](https://github.com/user-attachments/assets/3148635a-b711-49af-aad1-61052e82687f)\n",
        "\n",
        "#### 3. Advantages and Limitations of GNNs\n",
        "\n",
        "The representation learnt by GNNs has been proven to be effective in achieving state-of the-art performance in a variety of graph datasets. GNNs can model complex, relational data beyond grid or sequence structures andcaptures both local and global patterns by iterating over multiple layers.\n",
        "\n",
        "However, one of the limitations of GNNs is that they assume the graph structure to operate GNNs on is fixed and homogeneous. When this assumption is violated, for example in a case of a noisy graph with missing and spurious connections, GNN results in ineffective convolution with wrong neighbors on the graph. Moreover, GNNs are very computationally complex.\n",
        "\n",
        "### Explain the concept of a graph in mathematical terms, including nodes and edges.\n",
        "\n",
        "In mathematical terms, a graph $G$ is defined as an ordered pair $G = (V, E)$, where:\n",
        "\n",
        "-   $V$ (or sometimes $N$) is a set of vertices (or nodes), and each element $v \\in V$ represents a distinct point in the graph.\n",
        "\n",
        "-   $|E| = N^e$ , number of edges , $E$ is a set of edges, where each edge $e \\in E$ represents a connection or relationship between two vertices. Each edge $e$ can be represented as a pair $(u, v)$ of vertices, meaning an edge exists between nodes $u$ and $v$.\n",
        "\n",
        "    As was outliened previously, graphs can be directed or undirected. In an undirected graph, edges do not have a direction, meaning $(u, v)$ and $(v, u)$ represent the same edge. The edges are unordered pairs, so the connections are bidirectional. In a directed graph, each edge has a direction, so $(u, v)$ and $(v, u)$ are considered different edges. In this case, the edges are ordered pairs, and the graph captures asymmetric relationships.\n",
        "\n",
        "For a simple undirected graph ( G = (V, E) ), let:\n",
        "\n",
        "-   ( V = {A, B, C, D} )\n",
        "-   ( E = {(A, B), (A, C), (B, D), (C, D)} )\n",
        "\n",
        "Here, we have a graph with four nodes ( A, B, C, ) and ( D ), and four undirected edges connecting these nodes.\n",
        "\n",
        "#### How GNNs Differ from Traditional Neural Networks\n",
        "\n",
        "Of course the most striking difference between GNNs and other Neural Networks is their data structure and the way the information is propagated. Traditional neural networks like Convolutional Neural Networks (CNNs) and Recurrent Neural Networks (RNNs) are optimized for regular, structured data—2D grids for images or 1D sequences for text. GNNs, however, are designed to handle arbitrary graphs, where each data point may have a different number of neighbors and an irregular structure. In traditional networks, neurons are connected in a fixed pattern. In GNNs, the network architecture is flexible, allowing information to propagate based on the connections defined in the graph. During each layer (or step), a node aggregates information from its neighbors, which allows GNNs to capture both local and global relationships within the graph.\n",
        "\n",
        "Compared to other neural networks, GNNs are particularly useful for capturing relational information, as they use edges in graphs to represent connections between entities. This makes them ideal for problems where relationships or interactions between entities are critical.\n",
        "\n",
        "#### Graph Convolution and Pooling\n",
        "\n",
        "Graph Convolution is an extension of the convolution operation used in one of the types of GNNs, Convolutional Neural Networks (CNNs), for images, adapted to work on graph-structured data. In image convolution, a filter moves over the grid (pixels) to extract local features. For graphs, where there is no fixed grid, graph convolution instead aggregates information from a node’s neighbors to capture local features based on the graph structure.\n",
        "\n",
        "##### How Graph Convolution Works\n",
        "\n",
        "In a graph convolution layer, as in a classical GNN first each node aggregates feature information from its neighbors. For a node ( v ), the features of its neighboring nodes are combined using functions like mean, sum, or weighted sum.\n",
        "\n",
        "Then the aggregated information is then transformed by a learnable weight matrix to update the node's features. A non-linear function (e.g., ReLU) is applied to introduce complexity to the learned representation.\n",
        "\n",
        "The operation for updating each node’s feature can be expressed as: $$\n",
        "h_v^{(k+1)} = \\sigma \\left( W^{(k)} \\cdot \\sum_{u \\in \\mathcal{N}(v)} \\frac{1}{c_{vu}} \\cdot h_u^{(k)} \\right)\n",
        "$$ where: - $h_v^{(k+1)}$ is the feature of node $v$ in layer $k+1$, - $W^{(k)}$is a learnable weight matrix for layer $k$, - $\\mathcal{N}(v)$ denotes the neighbors of node $v$, - $c_{vu}$ is a normalization constant (e.g., based on the degree of nodes), - $\\sigma$ is a non-linear activation function. n.\n",
        "\n",
        "This operation enables graph convolutional networks (GCNs) to capture structural information as well as node features in a manner that is invariant to the graph's layout.\n",
        "\n",
        "#### Graph Pooling\n",
        "\n",
        "Graph Pooling is a technique used in Graph Neural Networks (GNNs) to reduce the size of the graph by combining or removing certain nodes, alike to pooling in CNNs, which reduces the spatial dimensions of images. Graph pooling helps to downsample a graph’s structure while retaining its essential features, allowing the model to capture hierarchical information and reduce computational complexity.\n",
        "\n",
        "##### Types of Graph Pooling\n",
        "\n",
        "The pooling technique may be either global, which means that it aggregates features across all nodes to produce a single vector representing the entire graph. Or pooling could be hierarchical, meaning that it reduces the numberof nodes at intermideate layers, creating a hierarchial representation of the graph.\n",
        "\n",
        "Global pooling is usually used when working with graph-level task. For example when classifying an entire molecule. Whereas, when the objective is to learn the most informative nodes and edges, hierarchical pooling is very helpful.\n",
        "\n",
        "##### Why Graph Pooling is Important\n",
        "\n",
        "This pooling technique is indeed very recommended. Pooling reduces the number of nodes, which helps control the model’s complexity and improves computational efficiency. Also pooling introduces a way to capture both local and global structures, allowing GNNs to learn from graphs with hierarchical or multi-scale patterns.\n",
        "![image](https://github.com/user-attachments/assets/a9537ed1-5a4f-44ea-9f1e-e9302f270858)\n",
        "\n",
        "DiffPool is a popular hierarchical pooling method where each node is assigned to a cluster in a differentiable manner. In DiffPool: 1. A soft cluster assignment matrix is learned, mapping nodes to clusters. 2. Node embeddings are aggregated within each cluster, creating a new graph with fewer nodes at each pooling layer.\n",
        "\n",
        "By pooling nodes into clusters, DiffPool can capture graph structures at multiple scales, improving performance on tasks that benefit from hierarchical representations.\n",
        "\n",
        "##### Summary\n",
        "\n",
        "Graph convolution extends the idea of convolution to irregular graph structures, allowing GNNs to leverage the relationships between nodes. Graph pooling, by reducing graph size while preserving core structure, enhances the model’s efficiency and enables hierarchical learning, crucial for understanding complex graphs.\n"
      ]
    },
    {
      "cell_type": "markdown",
      "id": "34f8a82c-e227-411b-8559-1d8fbb986bb4",
      "metadata": {
        "id": "34f8a82c-e227-411b-8559-1d8fbb986bb4"
      },
      "source": [
        "#### PyTorch Geometric Implementation:\n",
        "\n",
        "In this part of the project, I am going to explain, as I understand the GNN implementation. I am going to implement the PyTorch Geometric which is a specialized extension of PyTorch designed for the development and implementation of Graph Neural Networks (GNNs).\n",
        "The goal of this part is to create and train a GNN on the ZINC dataset.\n",
        "**ZINC dataset** contain around 250,000 molecular graphs with up to 38 heavy atoms, where atoms are nodes and bonds are edges.\n",
        "Goal is to predict properties such as solubility or drug-likeness based on those graph representations.\n",
        "\n",
        "\n",
        "Let's start by importing all packages and loading the data."
      ]
    },
    {
      "cell_type": "code",
      "execution_count": 1,
      "id": "W---slNbzLOF",
      "metadata": {
        "colab": {
          "base_uri": "https://localhost:8080/"
        },
        "id": "W---slNbzLOF",
        "outputId": "37bf1258-5795-48bd-ead3-22d6bfd3afe0"
      },
      "outputs": [
        {
          "output_type": "stream",
          "name": "stdout",
          "text": [
            "Looking in links: https://data.pyg.org/whl/torch-2.5.1+cu121.html\n",
            "Collecting torch-scatter\n",
            "  Downloading https://data.pyg.org/whl/torch-2.5.0%2Bcu121/torch_scatter-2.1.2%2Bpt25cu121-cp310-cp310-linux_x86_64.whl (10.9 MB)\n",
            "\u001b[2K     \u001b[90m━━━━━━━━━━━━━━━━━━━━━━━━━━━━━━━━━━━━━━━━\u001b[0m \u001b[32m10.9/10.9 MB\u001b[0m \u001b[31m25.8 MB/s\u001b[0m eta \u001b[36m0:00:00\u001b[0m\n",
            "\u001b[?25hInstalling collected packages: torch-scatter\n",
            "Successfully installed torch-scatter-2.1.2+pt25cu121\n",
            "Looking in links: https://data.pyg.org/whl/torch-2.5.1+cu121.html\n",
            "Collecting torch-sparse\n",
            "  Downloading https://data.pyg.org/whl/torch-2.5.0%2Bcu121/torch_sparse-0.6.18%2Bpt25cu121-cp310-cp310-linux_x86_64.whl (5.1 MB)\n",
            "\u001b[2K     \u001b[90m━━━━━━━━━━━━━━━━━━━━━━━━━━━━━━━━━━━━━━━━\u001b[0m \u001b[32m5.1/5.1 MB\u001b[0m \u001b[31m63.0 MB/s\u001b[0m eta \u001b[36m0:00:00\u001b[0m\n",
            "\u001b[?25hRequirement already satisfied: scipy in /usr/local/lib/python3.10/dist-packages (from torch-sparse) (1.13.1)\n",
            "Requirement already satisfied: numpy<2.3,>=1.22.4 in /usr/local/lib/python3.10/dist-packages (from scipy->torch-sparse) (1.26.4)\n",
            "Installing collected packages: torch-sparse\n",
            "Successfully installed torch-sparse-0.6.18+pt25cu121\n",
            "Looking in links: https://data.pyg.org/whl/torch-2.5.1+cu121.html\n",
            "Collecting torch-cluster\n",
            "  Downloading https://data.pyg.org/whl/torch-2.5.0%2Bcu121/torch_cluster-1.6.3%2Bpt25cu121-cp310-cp310-linux_x86_64.whl (3.4 MB)\n",
            "\u001b[2K     \u001b[90m━━━━━━━━━━━━━━━━━━━━━━━━━━━━━━━━━━━━━━━━\u001b[0m \u001b[32m3.4/3.4 MB\u001b[0m \u001b[31m2.8 MB/s\u001b[0m eta \u001b[36m0:00:00\u001b[0m\n",
            "\u001b[?25hRequirement already satisfied: scipy in /usr/local/lib/python3.10/dist-packages (from torch-cluster) (1.13.1)\n",
            "Requirement already satisfied: numpy<2.3,>=1.22.4 in /usr/local/lib/python3.10/dist-packages (from scipy->torch-cluster) (1.26.4)\n",
            "Installing collected packages: torch-cluster\n",
            "Successfully installed torch-cluster-1.6.3+pt25cu121\n",
            "Collecting git+https://github.com/pyg-team/pytorch_geometric.git\n",
            "  Cloning https://github.com/pyg-team/pytorch_geometric.git to /tmp/pip-req-build-3x2kn8s0\n",
            "  Running command git clone --filter=blob:none --quiet https://github.com/pyg-team/pytorch_geometric.git /tmp/pip-req-build-3x2kn8s0\n",
            "  Resolved https://github.com/pyg-team/pytorch_geometric.git to commit ab2b458f0c0f72d3cb573350b324db563066a7ee\n",
            "  Installing build dependencies ... \u001b[?25l\u001b[?25hdone\n",
            "  Getting requirements to build wheel ... \u001b[?25l\u001b[?25hdone\n",
            "  Preparing metadata (pyproject.toml) ... \u001b[?25l\u001b[?25hdone\n",
            "Requirement already satisfied: aiohttp in /usr/local/lib/python3.10/dist-packages (from torch-geometric==2.7.0) (3.11.10)\n",
            "Requirement already satisfied: fsspec in /usr/local/lib/python3.10/dist-packages (from torch-geometric==2.7.0) (2024.10.0)\n",
            "Requirement already satisfied: jinja2 in /usr/local/lib/python3.10/dist-packages (from torch-geometric==2.7.0) (3.1.4)\n",
            "Requirement already satisfied: numpy in /usr/local/lib/python3.10/dist-packages (from torch-geometric==2.7.0) (1.26.4)\n",
            "Requirement already satisfied: psutil>=5.8.0 in /usr/local/lib/python3.10/dist-packages (from torch-geometric==2.7.0) (5.9.5)\n",
            "Requirement already satisfied: pyparsing in /usr/local/lib/python3.10/dist-packages (from torch-geometric==2.7.0) (3.2.0)\n",
            "Requirement already satisfied: requests in /usr/local/lib/python3.10/dist-packages (from torch-geometric==2.7.0) (2.32.3)\n",
            "Requirement already satisfied: tqdm in /usr/local/lib/python3.10/dist-packages (from torch-geometric==2.7.0) (4.67.1)\n",
            "Requirement already satisfied: aiohappyeyeballs>=2.3.0 in /usr/local/lib/python3.10/dist-packages (from aiohttp->torch-geometric==2.7.0) (2.4.4)\n",
            "Requirement already satisfied: aiosignal>=1.1.2 in /usr/local/lib/python3.10/dist-packages (from aiohttp->torch-geometric==2.7.0) (1.3.2)\n",
            "Requirement already satisfied: async-timeout<6.0,>=4.0 in /usr/local/lib/python3.10/dist-packages (from aiohttp->torch-geometric==2.7.0) (4.0.3)\n",
            "Requirement already satisfied: attrs>=17.3.0 in /usr/local/lib/python3.10/dist-packages (from aiohttp->torch-geometric==2.7.0) (24.3.0)\n",
            "Requirement already satisfied: frozenlist>=1.1.1 in /usr/local/lib/python3.10/dist-packages (from aiohttp->torch-geometric==2.7.0) (1.5.0)\n",
            "Requirement already satisfied: multidict<7.0,>=4.5 in /usr/local/lib/python3.10/dist-packages (from aiohttp->torch-geometric==2.7.0) (6.1.0)\n",
            "Requirement already satisfied: propcache>=0.2.0 in /usr/local/lib/python3.10/dist-packages (from aiohttp->torch-geometric==2.7.0) (0.2.1)\n",
            "Requirement already satisfied: yarl<2.0,>=1.17.0 in /usr/local/lib/python3.10/dist-packages (from aiohttp->torch-geometric==2.7.0) (1.18.3)\n",
            "Requirement already satisfied: MarkupSafe>=2.0 in /usr/local/lib/python3.10/dist-packages (from jinja2->torch-geometric==2.7.0) (3.0.2)\n",
            "Requirement already satisfied: charset-normalizer<4,>=2 in /usr/local/lib/python3.10/dist-packages (from requests->torch-geometric==2.7.0) (3.4.0)\n",
            "Requirement already satisfied: idna<4,>=2.5 in /usr/local/lib/python3.10/dist-packages (from requests->torch-geometric==2.7.0) (3.10)\n",
            "Requirement already satisfied: urllib3<3,>=1.21.1 in /usr/local/lib/python3.10/dist-packages (from requests->torch-geometric==2.7.0) (2.2.3)\n",
            "Requirement already satisfied: certifi>=2017.4.17 in /usr/local/lib/python3.10/dist-packages (from requests->torch-geometric==2.7.0) (2024.12.14)\n",
            "Requirement already satisfied: typing-extensions>=4.1.0 in /usr/local/lib/python3.10/dist-packages (from multidict<7.0,>=4.5->aiohttp->torch-geometric==2.7.0) (4.12.2)\n",
            "Building wheels for collected packages: torch-geometric\n",
            "  Building wheel for torch-geometric (pyproject.toml) ... \u001b[?25l\u001b[?25hdone\n",
            "  Created wheel for torch-geometric: filename=torch_geometric-2.7.0-py3-none-any.whl size=1168721 sha256=e9eb81fb4ec100f14fb5964ac951774100680527f4da29b577ef796f6c5e947d\n",
            "  Stored in directory: /tmp/pip-ephem-wheel-cache-_yxpar8x/wheels/d3/78/eb/9e26525b948d19533f1688fb6c209cec8a0ba793d39b49ae8f\n",
            "Successfully built torch-geometric\n",
            "Installing collected packages: torch-geometric\n",
            "Successfully installed torch-geometric-2.7.0\n",
            "Requirement already satisfied: torch-geometric in /usr/local/lib/python3.10/dist-packages (2.7.0)\n",
            "Requirement already satisfied: aiohttp in /usr/local/lib/python3.10/dist-packages (from torch-geometric) (3.11.10)\n",
            "Requirement already satisfied: fsspec in /usr/local/lib/python3.10/dist-packages (from torch-geometric) (2024.10.0)\n",
            "Requirement already satisfied: jinja2 in /usr/local/lib/python3.10/dist-packages (from torch-geometric) (3.1.4)\n",
            "Requirement already satisfied: numpy in /usr/local/lib/python3.10/dist-packages (from torch-geometric) (1.26.4)\n",
            "Requirement already satisfied: psutil>=5.8.0 in /usr/local/lib/python3.10/dist-packages (from torch-geometric) (5.9.5)\n",
            "Requirement already satisfied: pyparsing in /usr/local/lib/python3.10/dist-packages (from torch-geometric) (3.2.0)\n",
            "Requirement already satisfied: requests in /usr/local/lib/python3.10/dist-packages (from torch-geometric) (2.32.3)\n",
            "Requirement already satisfied: tqdm in /usr/local/lib/python3.10/dist-packages (from torch-geometric) (4.67.1)\n",
            "Requirement already satisfied: aiohappyeyeballs>=2.3.0 in /usr/local/lib/python3.10/dist-packages (from aiohttp->torch-geometric) (2.4.4)\n",
            "Requirement already satisfied: aiosignal>=1.1.2 in /usr/local/lib/python3.10/dist-packages (from aiohttp->torch-geometric) (1.3.2)\n",
            "Requirement already satisfied: async-timeout<6.0,>=4.0 in /usr/local/lib/python3.10/dist-packages (from aiohttp->torch-geometric) (4.0.3)\n",
            "Requirement already satisfied: attrs>=17.3.0 in /usr/local/lib/python3.10/dist-packages (from aiohttp->torch-geometric) (24.3.0)\n",
            "Requirement already satisfied: frozenlist>=1.1.1 in /usr/local/lib/python3.10/dist-packages (from aiohttp->torch-geometric) (1.5.0)\n",
            "Requirement already satisfied: multidict<7.0,>=4.5 in /usr/local/lib/python3.10/dist-packages (from aiohttp->torch-geometric) (6.1.0)\n",
            "Requirement already satisfied: propcache>=0.2.0 in /usr/local/lib/python3.10/dist-packages (from aiohttp->torch-geometric) (0.2.1)\n",
            "Requirement already satisfied: yarl<2.0,>=1.17.0 in /usr/local/lib/python3.10/dist-packages (from aiohttp->torch-geometric) (1.18.3)\n",
            "Requirement already satisfied: MarkupSafe>=2.0 in /usr/local/lib/python3.10/dist-packages (from jinja2->torch-geometric) (3.0.2)\n",
            "Requirement already satisfied: charset-normalizer<4,>=2 in /usr/local/lib/python3.10/dist-packages (from requests->torch-geometric) (3.4.0)\n",
            "Requirement already satisfied: idna<4,>=2.5 in /usr/local/lib/python3.10/dist-packages (from requests->torch-geometric) (3.10)\n",
            "Requirement already satisfied: urllib3<3,>=1.21.1 in /usr/local/lib/python3.10/dist-packages (from requests->torch-geometric) (2.2.3)\n",
            "Requirement already satisfied: certifi>=2017.4.17 in /usr/local/lib/python3.10/dist-packages (from requests->torch-geometric) (2024.12.14)\n",
            "Requirement already satisfied: typing-extensions>=4.1.0 in /usr/local/lib/python3.10/dist-packages (from multidict<7.0,>=4.5->aiohttp->torch-geometric) (4.12.2)\n"
          ]
        }
      ],
      "source": [
        "import torch\n",
        "\n",
        "#If you are in collab install this\n",
        "!pip install torch-scatter -f https://data.pyg.org/whl/torch-{torch.__version__}.html\n",
        "!pip install torch-sparse -f https://data.pyg.org/whl/torch-{torch.__version__}.html\n",
        "!pip install torch-cluster -f https://data.pyg.org/whl/torch-{torch.__version__}.html\n",
        "!pip install git+https://github.com/pyg-team/pytorch_geometric.git\n",
        "!pip install torch-geometric\n",
        "from torch_geometric.datasets import  ZINC\n",
        "from torch_geometric.loader import DataLoader\n",
        "from torch_geometric.nn import GCNConv, global_mean_pool\n",
        "import torch.nn as nn"
      ]
    },
    {
      "cell_type": "code",
      "execution_count": 2,
      "id": "a3782f95-b920-4858-b787-9554c97300f6",
      "metadata": {
        "id": "a3782f95-b920-4858-b787-9554c97300f6"
      },
      "outputs": [],
      "source": [
        "\n",
        "import torch\n",
        "import torch.nn as nn\n",
        "from torch_geometric.loader import DataLoader\n",
        "from torch_geometric.nn import GCNConv, global_mean_pool\n",
        "import numpy as np\n",
        "import networkx as nx\n",
        "import matplotlib.pyplot as plt\n",
        "from torch_geometric.datasets import ZINC\n",
        "from statistics import mean\n"
      ]
    },
    {
      "cell_type": "code",
      "execution_count": 3,
      "id": "ZHXD0oFpqeI7",
      "metadata": {
        "colab": {
          "base_uri": "https://localhost:8080/"
        },
        "id": "ZHXD0oFpqeI7",
        "outputId": "0731388d-1bc2-4235-c6fb-445211dc9d02"
      },
      "outputs": [
        {
          "output_type": "stream",
          "name": "stdout",
          "text": [
            "You're using the GPU!\n"
          ]
        }
      ],
      "source": [
        "device = \"GPU\" if torch.cuda.is_available() else \"CPU\"\n",
        "print(f\"You're using the {device}!\")"
      ]
    },
    {
      "cell_type": "code",
      "execution_count": 4,
      "id": "cd747530-03e8-4229-ad5e-73ee0d8cbd5d",
      "metadata": {
        "colab": {
          "base_uri": "https://localhost:8080/"
        },
        "id": "cd747530-03e8-4229-ad5e-73ee0d8cbd5d",
        "outputId": "ceea2b07-f36d-42ad-a1aa-398212e7e14f"
      },
      "outputs": [
        {
          "output_type": "stream",
          "name": "stderr",
          "text": [
            "Downloading https://www.dropbox.com/s/feo9qle74kg48gy/molecules.zip?dl=1\n",
            "Extracting /zinc_data/molecules.zip\n",
            "Downloading https://raw.githubusercontent.com/graphdeeplearning/benchmarking-gnns/master/data/molecules/train.index\n",
            "Downloading https://raw.githubusercontent.com/graphdeeplearning/benchmarking-gnns/master/data/molecules/val.index\n",
            "Downloading https://raw.githubusercontent.com/graphdeeplearning/benchmarking-gnns/master/data/molecules/test.index\n",
            "Processing...\n",
            "Processing train dataset: 100%|██████████| 220011/220011 [00:21<00:00, 10105.80it/s]\n",
            "Processing val dataset: 100%|██████████| 24445/24445 [00:03<00:00, 7862.81it/s] \n",
            "Processing test dataset: 100%|██████████| 5000/5000 [00:00<00:00, 10089.71it/s]\n",
            "Done!\n"
          ]
        },
        {
          "output_type": "stream",
          "name": "stdout",
          "text": [
            "ZINC(220011)\n",
            "------------\n",
            "Number of graphs: 220011\n",
            "Number of features: 1\n",
            "Number of node features: 1\n",
            "Number of classes: 218362\n"
          ]
        },
        {
          "output_type": "stream",
          "name": "stderr",
          "text": [
            "/usr/local/lib/python3.10/dist-packages/torch_geometric/data/dataset.py:169: UserWarning: Found floating-point labels while calling `dataset.num_classes`. Returning the number of unique elements. Please make sure that this is expected before proceeding.\n",
            "  warnings.warn(\"Found floating-point labels while calling \"\n"
          ]
        }
      ],
      "source": [
        "# Load ZINC Dataset - PyTorch Geometric in-built dataset\n",
        "zinc_data = ZINC(root = '/zinc_data')\n",
        "\n",
        "print(zinc_data)\n",
        "print('------------')\n",
        "print(f'Number of graphs: {len(zinc_data)}')\n",
        "print(f'Number of features: {zinc_data.num_features}')\n",
        "print(f'Number of node features: {zinc_data.num_node_features}')\n",
        "print(f'Number of classes: {zinc_data.num_classes}')"
      ]
    },
    {
      "cell_type": "markdown",
      "id": "4ff9df43-d9d1-4a54-a200-b62be2f31fde",
      "metadata": {
        "id": "4ff9df43-d9d1-4a54-a200-b62be2f31fde"
      },
      "source": [
        "ZINC dataset contains 220,011 individual graphs, each node in the graphs has 1 feature associated with it, and there are 218,362 possible output classes."
      ]
    },
    {
      "cell_type": "code",
      "execution_count": 5,
      "id": "7b4b28d6-1c05-4d95-8fa1-07954772aba8",
      "metadata": {
        "colab": {
          "base_uri": "https://localhost:8080/"
        },
        "id": "7b4b28d6-1c05-4d95-8fa1-07954772aba8",
        "outputId": "5e44afe6-1912-4503-df31-a585555a49e0"
      },
      "outputs": [
        {
          "output_type": "stream",
          "name": "stdout",
          "text": [
            "First Graph: Data(x=[33, 1], edge_index=[2, 72], edge_attr=[72], y=[1])\n"
          ]
        }
      ],
      "source": [
        "# details about the first graph\n",
        "print(f'First Graph: {zinc_data[0]}')"
      ]
    },
    {
      "cell_type": "markdown",
      "id": "d177844d-98e0-4c03-a1db-eb88f82e5d29",
      "metadata": {
        "id": "d177844d-98e0-4c03-a1db-eb88f82e5d29"
      },
      "source": [
        "Let's have a look on the first graogh out of 220011 and its structure:\n",
        "- x=[33, 1] — A node feature matrix with the shape (number of nodes, number of features). In this case, it means there are 33 nodes, and each node is associated with a 1-dimensional feature vector.\n",
        "- edge_index=[2, 72] — Represents the connectivity of the graph (how nodes are connected) with the shape (2, number of directed edges).\n",
        "- y=[1] — The ground truth labels for the nodes. In this task, each node is assigned to a single class (group), so we have one label per node."
      ]
    },
    {
      "cell_type": "code",
      "execution_count": 6,
      "id": "0ee25333-e7cd-4cfe-92e2-e6e5123a12c9",
      "metadata": {
        "colab": {
          "base_uri": "https://localhost:8080/"
        },
        "id": "0ee25333-e7cd-4cfe-92e2-e6e5123a12c9",
        "outputId": "93365a03-79b1-4c4f-807b-958166eb4bde"
      },
      "outputs": [
        {
          "output_type": "stream",
          "name": "stdout",
          "text": [
            "x = torch.Size([33, 1])\n",
            "tensor([[0],\n",
            "        [0],\n",
            "        [0],\n",
            "        [0],\n",
            "        [0],\n",
            "        [0],\n",
            "        [0],\n",
            "        [2],\n",
            "        [2],\n",
            "        [0],\n",
            "        [2],\n",
            "        [0],\n",
            "        [0],\n",
            "        [0],\n",
            "        [0],\n",
            "        [0],\n",
            "        [2],\n",
            "        [0],\n",
            "        [0],\n",
            "        [0],\n",
            "        [0],\n",
            "        [0],\n",
            "        [0],\n",
            "        [0],\n",
            "        [0],\n",
            "        [0],\n",
            "        [0],\n",
            "        [0],\n",
            "        [0],\n",
            "        [1],\n",
            "        [2],\n",
            "        [0],\n",
            "        [5]])\n"
          ]
        }
      ],
      "source": [
        "first_graph = zinc_data[0]\n",
        "\n",
        "print(f'x = {first_graph.x.shape}')\n",
        "print(first_graph.x)"
      ]
    },
    {
      "cell_type": "code",
      "execution_count": 7,
      "id": "68a0e092-4e4e-45a3-a603-1bf6ef7e2af7",
      "metadata": {
        "colab": {
          "base_uri": "https://localhost:8080/",
          "height": 659
        },
        "id": "68a0e092-4e4e-45a3-a603-1bf6ef7e2af7",
        "outputId": "f35a32b4-06d8-496c-caa3-d1ddd1d2cfa1"
      },
      "outputs": [
        {
          "output_type": "display_data",
          "data": {
            "text/plain": [
              "<Figure size 800x600 with 1 Axes>"
            ],
            "image/png": "[encoded data removed]"
          },
          "metadata": {}
        }
      ],
      "source": [
        "from torch_geometric.utils import to_networkx\n",
        "\n",
        "G = to_networkx(first_graph, to_undirected=True)\n",
        "\n",
        "# Visualize the graph\n",
        "plt.figure(figsize=(8, 6))\n",
        "nx.draw(G, with_labels=True, node_size=500, node_color='skyblue', font_size=10, edge_color='gray')\n",
        "plt.title(\"First Graph in ZINC Dataset\")\n",
        "plt.show()"
      ]
    },
    {
      "cell_type": "markdown",
      "id": "5a8d28f6-423f-4d92-852f-735d39dd060c",
      "metadata": {
        "id": "5a8d28f6-423f-4d92-852f-735d39dd060c"
      },
      "source": [
        "All the graphs in the ZINC dataset are homogenous.\n",
        "\n",
        "This plot shows 33 nodes(from 0 to 32) and 72 edges. Now, let's move on to the representation of the graph convolutional network architecture.\n",
        "\n",
        "PyTorch Geometric provides the GCNConv function, which directly implements a graph convolutional layer.\n",
        "In this example, I will create a basic graph convolutional network with one GCN layer, a ReLU activation function, and a linear output layer.\n",
        "\n",
        "In the next code block, I define a GCN layer with a three-dimensional hidden layer."
      ]
    },
    {
      "cell_type": "code",
      "execution_count": 8,
      "id": "7807d5db-97d8-4f96-a29c-3dcbadae6ff2",
      "metadata": {
        "colab": {
          "base_uri": "https://localhost:8080/"
        },
        "id": "7807d5db-97d8-4f96-a29c-3dcbadae6ff2",
        "outputId": "9cad9476-1a7e-44ea-c252-07097a584fde"
      },
      "outputs": [
        {
          "output_type": "stream",
          "name": "stdout",
          "text": [
            "GCN(\n",
            "  (gcn): GCNConv(1, 3)\n",
            "  (out): Linear(in_features=3, out_features=218362, bias=True)\n",
            ")\n"
          ]
        }
      ],
      "source": [
        "from torch.nn import Linear\n",
        "from torch_geometric.nn import GCNConv\n",
        "\n",
        "\n",
        "class GCN(torch.nn.Module):\n",
        "    def __init__(self, input_features, hidden_dim, output_classes):\n",
        "        super().__init__()\n",
        "        self.gcn = GCNConv(input_features, hidden_dim)         # Graph convolutional layer\n",
        "        self.out = Linear(hidden_dim, output_classes)        # Fully connected layer for output\n",
        "\n",
        "    def forward(self, x, edge_index, batch):\n",
        "        h = self.gcn(x, edge_index).relu()          # Node-level embeddings\n",
        "        h = global_mean_pool(h, batch)             # Aggregate to graph-level embeddings\n",
        "        z = self.out(h)                            # Graph-level predictions\n",
        "        return h, z\n",
        "\n",
        "\n",
        "# Initialize model\n",
        "input_features = 1  # only one feature per node\n",
        "hidden_dim = 3  # Number of hidden units\n",
        "output_classes = 218362  #  number of classes\n",
        "\n",
        "model = GCN(input_features, hidden_dim, output_classes)\n",
        "print(model)"
      ]
    },
    {
      "cell_type": "markdown",
      "id": "614989ad-9e34-43ee-81de-cb74c9bc4b0d",
      "metadata": {
        "id": "614989ad-9e34-43ee-81de-cb74c9bc4b0d"
      },
      "source": [
        "Now that we have defined the GNN, let's write a simple training loop using PyTorch. I chose a standard cross-entropy loss function for a multi-class classification task, with Adam as the optimizer.\n",
        "\n",
        "The training loop is straightforward: we attempt to predict the correct labels and compare the GCN's outputs to the values stored in data.y. The error is calculated using the cross-entropy loss and propagated backward via Adam to fine-tune the weights and biases of the GNN. We print metrics every 10 epochs. Before some preprocessing is needed. Node features should be float, and labels should be type long."
      ]
    },
    {
      "cell_type": "code",
      "execution_count": 9,
      "id": "f1f85f19-dd1a-4f35-b809-e7e389a78913",
      "metadata": {
        "id": "f1f85f19-dd1a-4f35-b809-e7e389a78913"
      },
      "outputs": [],
      "source": [
        "# Preprocessing\n",
        "data = first_graph\n",
        "data.x = data.x.float()\n",
        "data.y = data.y.long()"
      ]
    },
    {
      "cell_type": "code",
      "execution_count": 10,
      "id": "7d4d010e-5b95-4c73-86d3-e0c8c713650c",
      "metadata": {
        "colab": {
          "base_uri": "https://localhost:8080/"
        },
        "id": "7d4d010e-5b95-4c73-86d3-e0c8c713650c",
        "outputId": "2af51212-599f-47c4-c410-4ce5b948ff94",
        "scrolled": true
      },
      "outputs": [
        {
          "output_type": "stream",
          "name": "stdout",
          "text": [
            "Epoch   0 | Loss: 12.11 | Acc: 0.00%\n",
            "Epoch  10 | Loss: 11.08 | Acc: 100.00%\n",
            "Epoch  20 | Loss: 9.29 | Acc: 100.00%\n",
            "Epoch  30 | Loss: 6.45 | Acc: 100.00%\n",
            "Epoch  40 | Loss: 2.40 | Acc: 100.00%\n",
            "Epoch  50 | Loss: 0.07 | Acc: 100.00%\n",
            "Epoch  60 | Loss: 0.00 | Acc: 100.00%\n",
            "Epoch  70 | Loss: 0.00 | Acc: 100.00%\n",
            "Epoch  80 | Loss: 0.00 | Acc: 100.00%\n",
            "Epoch  90 | Loss: 0.00 | Acc: 100.00%\n",
            "Epoch 100 | Loss: 0.00 | Acc: 100.00%\n",
            "Epoch 110 | Loss: 0.00 | Acc: 100.00%\n",
            "Epoch 120 | Loss: 0.00 | Acc: 100.00%\n",
            "Epoch 130 | Loss: 0.00 | Acc: 100.00%\n",
            "Epoch 140 | Loss: 0.00 | Acc: 100.00%\n",
            "Epoch 150 | Loss: 0.00 | Acc: 100.00%\n",
            "Epoch 160 | Loss: 0.00 | Acc: 100.00%\n",
            "Epoch 170 | Loss: 0.00 | Acc: 100.00%\n",
            "Epoch 180 | Loss: 0.00 | Acc: 100.00%\n",
            "Epoch 190 | Loss: 0.00 | Acc: 100.00%\n",
            "Epoch 200 | Loss: 0.00 | Acc: 100.00%\n"
          ]
        }
      ],
      "source": [
        "from torch_geometric.nn import GCNConv, global_mean_pool\n",
        "criterion = torch.nn.CrossEntropyLoss()\n",
        "optimizer = torch.optim.Adam(model.parameters(), lr=0.02)\n",
        "\n",
        "# Accuracy calculation\n",
        "def accuracy(pred_y, y):\n",
        "    return (pred_y == y).float().mean()\n",
        "\n",
        "# Data for animations\n",
        "embeddings = []\n",
        "losses = []\n",
        "accuracies = []\n",
        "outputs = []\n",
        "\n",
        "\n",
        "# Training loop\n",
        "for epoch in range(201):\n",
        "    optimizer.zero_grad()     # Clear gradients\n",
        "    h, z = model(data.x, data.edge_index, data.batch)      # Forward pass\n",
        "    loss = criterion(z, data.y)      # Calculate loss function\n",
        "    acc = accuracy(z.argmax(dim=1), data.y)      # Calculate accuracy\n",
        "    loss.backward()        # Compute gradients\n",
        "    optimizer.step()          # Adjust parameters\n",
        "\n",
        "    # Store data for animations\n",
        "    embeddings.append(h)\n",
        "    losses.append(loss.item())\n",
        "    accuracies.append(acc.item())\n",
        "    outputs.append(z.argmax(dim=1))\n",
        "\n",
        "    # Print metrics every 10 epochs\n",
        "    if epoch % 10 == 0:\n",
        "        print(f'Epoch {epoch:>3} | Loss: {loss:.2f} | Acc: {acc*100:.2f}%')"
      ]
    },
    {
      "cell_type": "code",
      "execution_count": 11,
      "id": "db72bc46-ea2f-47da-8f35-b04f29dde364",
      "metadata": {
        "colab": {
          "base_uri": "https://localhost:8080/"
        },
        "id": "db72bc46-ea2f-47da-8f35-b04f29dde364",
        "outputId": "766b3401-4fd8-47a2-ba48-1461ddb27fe6"
      },
      "outputs": [
        {
          "output_type": "stream",
          "name": "stdout",
          "text": [
            "Final embeddings = torch.Size([1, 3])\n",
            "tensor([[2.1917, 2.2190, 1.9736]], grad_fn=<MeanBackward1>)\n"
          ]
        }
      ],
      "source": [
        "print(f'Final embeddings = {h.shape}')\n",
        "print(h)"
      ]
    },
    {
      "cell_type": "markdown",
      "id": "d632c671-88fa-48ad-9540-9e6d77dcaaa2",
      "metadata": {
        "id": "d632c671-88fa-48ad-9540-9e6d77dcaaa2"
      },
      "source": [
        "By aggregating features obtained from neighboring nodes, the GNN learns a vector representation (or embedding) for each node in the network. In this model, the final layer learns to use these representations to make optimal classifications. The output represents **Graph-level Embedding**. After applying the GCN layer and global mean pooling, we are left with a 3-dimensional vector that represents the entire graph in the embedding space.\n",
        "\n",
        "\n",
        "Now, i want to train the model on ALL graphs. We need train, validation and test dataset form ZINC data.\n",
        "\n",
        "All 220011 graphs are homogenous, with 218362 potential outputs, this is a graph -level, graph regression task."
      ]
    },
    {
      "cell_type": "code",
      "execution_count": 12,
      "id": "e640c38a-6454-47db-a921-b64a4ba29664",
      "metadata": {
        "id": "e640c38a-6454-47db-a921-b64a4ba29664",
        "colab": {
          "base_uri": "https://localhost:8080/"
        },
        "outputId": "cef2aa2b-a7c8-4912-e2e1-ac031cffa68b"
      },
      "outputs": [
        {
          "output_type": "stream",
          "name": "stderr",
          "text": [
            "Downloading https://www.dropbox.com/s/feo9qle74kg48gy/molecules.zip?dl=1\n",
            "Extracting data/ZINC/molecules.zip\n",
            "Downloading https://raw.githubusercontent.com/graphdeeplearning/benchmarking-gnns/master/data/molecules/train.index\n",
            "Downloading https://raw.githubusercontent.com/graphdeeplearning/benchmarking-gnns/master/data/molecules/val.index\n",
            "Downloading https://raw.githubusercontent.com/graphdeeplearning/benchmarking-gnns/master/data/molecules/test.index\n",
            "Processing...\n",
            "Processing train dataset: 100%|██████████| 220011/220011 [00:20<00:00, 10525.80it/s]\n",
            "Processing val dataset: 100%|██████████| 24445/24445 [00:03<00:00, 7120.14it/s] \n",
            "Processing test dataset: 100%|██████████| 5000/5000 [00:00<00:00, 9615.59it/s] \n",
            "Done!\n"
          ]
        }
      ],
      "source": [
        "root = 'data/ZINC'\n",
        "\n",
        "# We upload train, validation and test sets\n",
        "train_dataset = ZINC(root, subset=False, split='train')\n",
        "val_dataset = ZINC(root, subset=False, split='val')\n",
        "test_dataset = ZINC(root, subset=False, split='test')"
      ]
    },
    {
      "cell_type": "markdown",
      "id": "WBVT7OO0zvYm",
      "metadata": {
        "id": "WBVT7OO0zvYm"
      },
      "source": [
        "I am going to batch the graphs before inputting them into a Graph Neural Network to guarantee full GPU utilization. The length of this dimension is then equal to the number of examples grouped in a mini-batch and is typically referred to as the batch_size."
      ]
    },
    {
      "cell_type": "code",
      "execution_count": 13,
      "id": "bFL9i0lTbXkO",
      "metadata": {
        "colab": {
          "base_uri": "https://localhost:8080/"
        },
        "id": "bFL9i0lTbXkO",
        "outputId": "8e330a87-b3e2-4f30-f84a-2a9c40a565c7"
      },
      "outputs": [
        {
          "output_type": "stream",
          "name": "stdout",
          "text": [
            "Number of classes train-dataset: 218362\n",
            "Number of classes validation-dataset: 24422\n",
            "Number of classes test-dataset: 4999\n"
          ]
        }
      ],
      "source": [
        "print(f'Number of classes train-dataset: {train_dataset.num_classes}')\n",
        "print(f'Number of classes validation-dataset: {val_dataset.num_classes}')\n",
        "print(f'Number of classes test-dataset: {test_dataset.num_classes}')"
      ]
    },
    {
      "cell_type": "code",
      "execution_count": 14,
      "id": "33d5541b-df96-4b21-b7db-3c164a5e4729",
      "metadata": {
        "id": "33d5541b-df96-4b21-b7db-3c164a5e4729"
      },
      "outputs": [],
      "source": [
        "batch_size = 2**8\n",
        "# split datasets in batches\n",
        "# num_workers = 2: Number of CPU threads used for data loading (parallel data loading)\n",
        "train_dataloader = DataLoader(dataset=train_dataset, batch_size=batch_size, num_workers=2)\n",
        "val_dataloader = DataLoader(dataset=val_dataset, batch_size=batch_size, num_workers=2)\n",
        "test_dataloader = DataLoader(dataset=test_dataset, batch_size=batch_size, num_workers=2)"
      ]
    },
    {
      "cell_type": "code",
      "execution_count": 15,
      "id": "7rqmrtQWd6XF",
      "metadata": {
        "colab": {
          "base_uri": "https://localhost:8080/"
        },
        "id": "7rqmrtQWd6XF",
        "outputId": "5416d56d-bf19-4818-9d41-a54a81e725f1"
      },
      "outputs": [
        {
          "output_type": "stream",
          "name": "stdout",
          "text": [
            "Unique labels: tensor([-14.9603, -14.2208, -10.9707,  ...,   3.6328,   3.7589,   3.8720])\n",
            "Number of classes: 4999\n"
          ]
        }
      ],
      "source": [
        "data = test_dataset\n",
        "\n",
        "\n",
        "unique_labels = torch.unique(data.y)\n",
        "num_classes = len(unique_labels)\n",
        "\n",
        "print(\"Unique labels:\", unique_labels)\n",
        "print(\"Number of classes:\", num_classes)"
      ]
    },
    {
      "cell_type": "code",
      "execution_count": 16,
      "id": "VJdtrh5OiDWO",
      "metadata": {
        "colab": {
          "base_uri": "https://localhost:8080/"
        },
        "id": "VJdtrh5OiDWO",
        "outputId": "a9ccf1fd-6cd6-4a7f-8756-d37deaa7d0b5"
      },
      "outputs": [
        {
          "output_type": "stream",
          "name": "stdout",
          "text": [
            "Unique labels: tensor([-62.1384, -49.4655, -43.9977,  ...,   4.2320,   4.2971,   4.5195])\n",
            "Number of classes: 218362\n"
          ]
        }
      ],
      "source": [
        "data = zinc_data\n",
        "data.x = data.x.float()\n",
        "\n",
        "unique_labels = torch.unique(data.y)\n",
        "num_classes = len(unique_labels)\n",
        "\n",
        "print(\"Unique labels:\", unique_labels)\n",
        "print(\"Number of classes:\", num_classes)"
      ]
    },
    {
      "cell_type": "markdown",
      "id": "0GaC188A3QhB",
      "metadata": {
        "id": "0GaC188A3QhB"
      },
      "source": [
        "The GNN is based on two type of layers:\n",
        "\n",
        "- Message passing layers: with the goal of node embedding, nodes update their representations by aggregating the messages received from their immediate neighbours.\n",
        "- Readout layer - pooling: collects all node representations in a graph to form a graph representation"
      ]
    },
    {
      "cell_type": "code",
      "execution_count": 17,
      "id": "8ab54594-7e33-477e-b119-e7c391de0a46",
      "metadata": {
        "id": "8ab54594-7e33-477e-b119-e7c391de0a46"
      },
      "outputs": [],
      "source": [
        "\n",
        "class GCN(nn.Module):\n",
        "    def __init__(self, num_features, num_classes, hidden_channels_1, hidden_channels_2):\n",
        "        super(GCN, self).__init__()\n",
        "        self.conv1 = GCNConv(num_features, hidden_channels_1)\n",
        "        self.conv2 = GCNConv(hidden_channels_1, hidden_channels_1)\n",
        "        self.conv3 = GCNConv(hidden_channels_1, hidden_channels_2)\n",
        "        self.conv4 = GCNConv(hidden_channels_2, num_classes)\n",
        "\n",
        "    def forward(self, x, edge_index, batch):\n",
        "        # 1. Obtain node embeddings through Message passing layers\n",
        "        x = self.conv1(x, edge_index)\n",
        "        x = torch.relu(x)\n",
        "        x = self.conv2(x, edge_index)\n",
        "        x = torch.relu(x)\n",
        "        x = self.conv3(x, edge_index)\n",
        "        x = torch.relu(x)\n",
        "        x = self.conv4(x, edge_index)\n",
        "\n",
        "        # 2. Readout layer\n",
        "        g_pool = global_mean_pool(x, batch)\n",
        "        return g_pool"
      ]
    },
    {
      "cell_type": "code",
      "execution_count": 18,
      "id": "5f5a0755-70d0-4fc1-86b1-89fc43cc9720",
      "metadata": {
        "colab": {
          "base_uri": "https://localhost:8080/"
        },
        "id": "5f5a0755-70d0-4fc1-86b1-89fc43cc9720",
        "outputId": "16d6aadc-db1c-4082-bbe9-c069e1bb63c2"
      },
      "outputs": [
        {
          "output_type": "execute_result",
          "data": {
            "text/plain": [
              "GCN(\n",
              "  (conv1): GCNConv(1, 64)\n",
              "  (conv2): GCNConv(64, 64)\n",
              "  (conv3): GCNConv(64, 64)\n",
              "  (conv4): GCNConv(64, 1)\n",
              ")"
            ]
          },
          "metadata": {},
          "execution_count": 18
        }
      ],
      "source": [
        "model = GCN(num_features = 1, num_classes = 1, hidden_channels_1 = 64, hidden_channels_2 = 64)  # num_classes should be 1 for regression tasks\n",
        "model\n"
      ]
    },
    {
      "cell_type": "markdown",
      "id": "101ca3b9-bc8b-4082-8fd5-cee04e8c46f4",
      "metadata": {
        "id": "101ca3b9-bc8b-4082-8fd5-cee04e8c46f4"
      },
      "source": [
        "First, I want to have a look on a first example without training the GNN. That is, a forward pass without doing backward propagation. For this purpose, first  I am going to select a batch in the training set, and I will predict the solubility for each molecule in this batch:"
      ]
    },
    {
      "cell_type": "code",
      "execution_count": 19,
      "id": "bc4f0107-503e-4e31-89c4-1c426ca084e6",
      "metadata": {
        "colab": {
          "base_uri": "https://localhost:8080/"
        },
        "id": "bc4f0107-503e-4e31-89c4-1c426ca084e6",
        "outputId": "b0e4e782-e043-4c7b-b3d6-eb3181b6e401"
      },
      "outputs": [
        {
          "output_type": "stream",
          "name": "stdout",
          "text": [
            "DataBatch(x=[5938, 1], edge_index=[2, 12784], edge_attr=[12784], y=[256], batch=[5938], ptr=[257])\n"
          ]
        }
      ],
      "source": [
        "# First batch of data from training dataloader\n",
        "for d in train_dataloader:\n",
        "    example_data = d\n",
        "    break\n",
        "print(example_data)"
      ]
    },
    {
      "cell_type": "code",
      "execution_count": 20,
      "id": "DXOOZBZtXRCd",
      "metadata": {
        "colab": {
          "base_uri": "https://localhost:8080/"
        },
        "id": "DXOOZBZtXRCd",
        "outputId": "fe587ac4-0f7b-4bb3-812e-5d7672959009"
      },
      "outputs": [
        {
          "output_type": "stream",
          "name": "stdout",
          "text": [
            "Batch 1:\n",
            "DataBatch(x=[5938, 1], edge_index=[2, 12784], edge_attr=[12784], y=[256], batch=[5938], ptr=[257])\n",
            "--------------------------------------------------\n",
            "Batch 2:\n",
            "DataBatch(x=[5916, 1], edge_index=[2, 12742], edge_attr=[12742], y=[256], batch=[5916], ptr=[257])\n",
            "--------------------------------------------------\n",
            "Batch 3:\n",
            "DataBatch(x=[6002, 1], edge_index=[2, 12904], edge_attr=[12904], y=[256], batch=[6002], ptr=[257])\n",
            "--------------------------------------------------\n"
          ]
        }
      ],
      "source": [
        "for i, d in enumerate(train_dataloader):\n",
        "\n",
        "    print(f\"Batch {i+1}:\")\n",
        "    print(d)\n",
        "    print(\"-\" * 50)\n",
        "    if i == 2:  # Stop after printing the first three batches\n",
        "        break"
      ]
    },
    {
      "cell_type": "markdown",
      "id": "08268189-3ff3-4ff0-959a-26cf19db5a7d",
      "metadata": {
        "id": "08268189-3ff3-4ff0-959a-26cf19db5a7d"
      },
      "source": [
        "This is a DataBatch object:\n",
        "- x =[5938,1] is the node feature matrix, there are 5938 nodes in the batch and each node has one feature.\n",
        "\n",
        "- edge_index = [2, 12784] representation of the graph's edges, there are 12784 edges, and each column in the matrix represents and edge with the indices of the two nodes it connects\n",
        "\n",
        "- edge_attr = [12784], attribute vector for edges, each of the 12784 edges has one attribute\n",
        "\n",
        "- y = 256 represents the labels for the batch, this batch contains 256 graphs, and each graph has one label"
      ]
    },
    {
      "cell_type": "code",
      "execution_count": 21,
      "id": "c5207b26-340d-42d9-a1fa-a961c78be08f",
      "metadata": {
        "colab": {
          "base_uri": "https://localhost:8080/"
        },
        "id": "c5207b26-340d-42d9-a1fa-a961c78be08f",
        "outputId": "0c57085b-9d2a-4dcd-e40b-42073c556845"
      },
      "outputs": [
        {
          "output_type": "stream",
          "name": "stdout",
          "text": [
            "torch.Size([256, 1])\n"
          ]
        }
      ],
      "source": [
        "example_prediction = model(example_data.x.to(torch.float32), example_data.edge_index, example_data.batch)\n",
        "print(example_prediction.size())"
      ]
    },
    {
      "cell_type": "code",
      "execution_count": 22,
      "id": "2ee35c30-0199-4f57-8744-2c90e0fbc746",
      "metadata": {
        "id": "2ee35c30-0199-4f57-8744-2c90e0fbc746",
        "colab": {
          "base_uri": "https://localhost:8080/"
        },
        "outputId": "d5af39c1-cc61-47c9-f447-dd0cc3cb87a8"
      },
      "outputs": [
        {
          "output_type": "stream",
          "name": "stdout",
          "text": [
            "Epoch 1/20: Training Loss = 2.931983583611111 Validation Loss = 2.642193753272295\n",
            "Epoch 2/20: Training Loss = 2.584127814270729 Validation Loss = 2.5814868149658046\n",
            "Epoch 3/20: Training Loss = 2.295744970371557 Validation Loss = 2.123066335916519\n",
            "Epoch 4/20: Training Loss = 2.0903520990249724 Validation Loss = 1.958157589038213\n",
            "Epoch 5/20: Training Loss = 1.9740930641113326 Validation Loss = 1.9239397483567398\n",
            "Epoch 6/20: Training Loss = 1.9245090330755987 Validation Loss = 1.8849565436442692\n",
            "Epoch 7/20: Training Loss = 1.8955734936996949 Validation Loss = 1.8703501106550295\n",
            "Epoch 8/20: Training Loss = 1.869151041258213 Validation Loss = 1.7904902920126915\n",
            "Epoch 9/20: Training Loss = 1.844595338785371 Validation Loss = 1.8123605983952682\n",
            "Epoch 10/20: Training Loss = 1.8232396458470543 Validation Loss = 1.8174036474277575\n",
            "Epoch 11/20: Training Loss = 1.8079999789249066 Validation Loss = 1.7665490818520386\n",
            "Epoch 12/20: Training Loss = 1.7967040436212407 Validation Loss = 1.788744209955136\n",
            "Epoch 13/20: Training Loss = 1.777048636799635 Validation Loss = 1.7890142717709143\n",
            "Epoch 14/20: Training Loss = 1.763436438247215 Validation Loss = 1.764212127154072\n",
            "Epoch 15/20: Training Loss = 1.7530921999798266 Validation Loss = 1.7842776042719681\n",
            "Epoch 16/20: Training Loss = 1.7398635390886041 Validation Loss = 1.8112016450613737\n",
            "Epoch 17/20: Training Loss = 1.7300824079402657 Validation Loss = 1.775864138578375\n",
            "Epoch 18/20: Training Loss = 1.723867461501166 Validation Loss = 1.751392774283886\n",
            "Epoch 19/20: Training Loss = 1.7211407434108645 Validation Loss = 1.721253240481019\n",
            "Epoch 20/20: Training Loss = 1.7108382141174272 Validation Loss = 1.7846905409048002\n"
          ]
        }
      ],
      "source": [
        "total_train_loss = [] # here we are going to store the mean of the training loss of all the batches for each epoch\n",
        "total_val_loss = [] # here we are going to store the mean of the validation loss of all the batches for each epoch\n",
        "loss_fn = torch.nn.MSELoss()\n",
        "optimizer = torch.optim.Adam(model.parameters(), lr = 0.01, weight_decay=1e-5)\n",
        "num_epochs = 20\n",
        "\n",
        "model.train()\n",
        "\n",
        "for epoch in range(num_epochs):\n",
        "    train_running_loss = []\n",
        "    val_running_loss = []\n",
        "\n",
        "    # Loop over the training dataset\n",
        "    for data in train_dataloader:\n",
        "        # Forward pass\n",
        "        output = model(data.x.to(torch.float32), data.edge_index, data.batch)\n",
        "        loss = loss_fn(output.squeeze(), data.y)\n",
        "\n",
        "        # Backward pass\n",
        "        optimizer.zero_grad()         # reset the optimizer gradient'\n",
        "        loss.backward()               # Backward the loss\n",
        "        optimizer.step()              # Apply optimizer\n",
        "\n",
        "        # Track the running loss for the training set\n",
        "        train_running_loss.append(loss.item())\n",
        "\n",
        "    total_train_loss.append(mean(train_running_loss))\n",
        "\n",
        "    # Loop over the validation dataset\n",
        "    with torch.no_grad():\n",
        "        for data in val_dataloader:\n",
        "            # Forward pass\n",
        "            output = model(data.x.to(torch.float32), data.edge_index, data.batch)\n",
        "            loss = loss_fn(output.squeeze(), data.y)\n",
        "\n",
        "            # Track the running loss for the validation set\n",
        "            val_running_loss.append(loss.item())\n",
        "\n",
        "    total_val_loss.append(mean(val_running_loss))\n",
        "\n",
        "    # Print the loss for the current epoch\n",
        "    print(f\"Epoch {epoch+1}/{num_epochs}: Training Loss = {total_train_loss[-1]} Validation Loss = {total_val_loss[-1]}\")\n"
      ]
    },
    {
      "cell_type": "markdown",
      "id": "6e505851-6255-43aa-bf18-7149c2586dba",
      "metadata": {
        "id": "6e505851-6255-43aa-bf18-7149c2586dba"
      },
      "source": [
        "The training loss decreases across epochs, model is learning from the data. Validation loss decreases in the beginning and stabilizes around epoch 8. In validation data it reaches its capasity for capturing patterns.\n",
        "\n",
        "Find below the plot of the evolution of the loss for each epoch for both the training and validation sets:"
      ]
    },
    {
      "cell_type": "code",
      "execution_count": 23,
      "id": "ZdLR4WmaAXQo",
      "metadata": {
        "colab": {
          "base_uri": "https://localhost:8080/"
        },
        "id": "ZdLR4WmaAXQo",
        "outputId": "6f14b918-e1d4-49aa-c5f5-c24e087e457c"
      },
      "outputs": [
        {
          "metadata": {
            "tags": null
          },
          "name": "stdout",
          "output_type": "stream",
          "text": [
            "tensor([ 7.3913e-01,  5.3556e-01, -3.8451e-01, -2.0127e+00,  1.8636e+00,\n",
            "         1.1678e-01,  2.0796e+00,  1.3175e+00, -2.8681e-01,  1.4838e+00,\n",
            "         1.1751e+00,  1.1367e+00,  1.1141e+00,  1.5252e+00, -1.5286e+00,\n",
            "         1.4211e+00, -4.0784e+00, -2.8439e+00,  4.1670e-01, -1.7211e+00,\n",
            "        -5.6016e-01,  2.4076e-01, -3.8828e-01,  3.2696e-01, -8.6757e-03,\n",
            "        -2.2223e+00, -1.6706e+00, -1.8463e+01,  7.8799e-01, -2.3776e+00,\n",
            "        -3.3657e+00,  1.0652e+00,  5.4001e-01,  1.8203e+00,  5.8851e-01,\n",
            "         2.3283e+00, -2.2060e+00,  2.7259e+00,  9.0359e-01,  6.1908e-01,\n",
            "         1.4126e+00, -1.1542e+00,  3.9499e-01, -1.0688e-01, -3.2143e-01,\n",
            "        -8.4239e-01,  4.2573e-01, -1.8848e+00,  5.1585e-01, -1.0031e+00,\n",
            "         6.9804e-01, -3.5596e+00, -1.0794e+00,  1.5496e+00,  9.9837e-01,\n",
            "        -7.9498e-01,  1.2690e+00,  1.6563e+00, -6.1259e+00, -2.4954e+00,\n",
            "         8.6415e-01, -1.8426e-01,  1.6003e+00,  2.2603e+00,  7.9102e-01,\n",
            "        -2.4902e+00,  1.5056e+00,  1.6787e+00,  1.0005e+00, -2.4576e+00,\n",
            "         1.5977e+00,  8.2600e-01, -5.3191e+00,  2.6473e-01,  3.5820e-01,\n",
            "        -6.4005e+00,  1.1015e+00, -5.9050e-01, -2.2245e+00, -3.5705e+00,\n",
            "        -1.8409e+00,  6.2910e-01,  2.3717e+00,  9.3774e-01,  5.7301e-01,\n",
            "         5.1359e-01, -1.4228e+00, -2.8179e+00, -5.3654e-01, -1.6441e+00,\n",
            "         3.5701e-01,  1.1451e+00, -3.7533e+00,  1.9874e+00, -3.2006e-01,\n",
            "         6.0702e-02, -3.2749e+00, -1.8701e+00,  9.1429e-01, -5.6838e+00,\n",
            "        -3.3390e+00, -8.1751e-01, -3.5212e+00,  2.3427e+00,  1.4564e+00,\n",
            "         2.0925e+00, -1.8240e+00, -3.2115e+00,  4.0918e-01,  2.4214e+00,\n",
            "         1.6559e+00, -2.8809e+00, -6.9804e-01, -7.3926e-01,  7.7138e-01,\n",
            "         1.5183e+00, -1.8935e+00,  1.4654e+00,  1.2072e+00, -1.1442e+00,\n",
            "         6.3335e-01,  8.4262e-01, -2.5034e+00,  1.1170e+00,  6.4747e-01])\n"
          ]
        }
      ],
      "source": [
        "print(data.y)"
      ]
    },
    {
      "cell_type": "code",
      "execution_count": 24,
      "id": "315eea48-8627-4140-8a62-d2600150ce9b",
      "metadata": {
        "colab": {
          "base_uri": "https://localhost:8080/",
          "height": 449
        },
        "id": "315eea48-8627-4140-8a62-d2600150ce9b",
        "outputId": "a7ae24a9-3aa4-449b-b775-39023006260c"
      },
      "outputs": [
        {
          "output_type": "display_data",
          "data": {
            "text/plain": [
              "<Figure size 640x480 with 1 Axes>"
            ],
            "image/png": "[encoded data removed]"
          },
          "metadata": {}
        }
      ],
      "source": [
        "# Plot the running loss\n",
        "plt.plot(total_train_loss, label=\"Training Loss\")\n",
        "plt.plot(total_val_loss, label=\"Validation Loss\")\n",
        "plt.xlabel('Epoch')\n",
        "plt.ylabel('Loss')\n",
        "plt.legend()\n",
        "plt.show()"
      ]
    },
    {
      "cell_type": "markdown",
      "id": "UVXlRZIVQxeH",
      "metadata": {
        "id": "UVXlRZIVQxeH"
      },
      "source": [
        "Both training loss and validation loss are steadily decreasing, the model is learning and improving its predictions on both training and validation data over each epoch.\n",
        "Training and validation are quite close ti each other throughout the epochs, which signifies that the model does not overfit!!\n",
        "\n",
        "\n"
      ]
    },
    {
      "cell_type": "markdown",
      "id": "ffb1bb21-f12e-4284-b653-d0a09ce40ffd",
      "metadata": {
        "id": "ffb1bb21-f12e-4284-b653-d0a09ce40ffd"
      },
      "source": [
        "Finally, we are going to run the GNN model trained above on the test data set"
      ]
    },
    {
      "cell_type": "code",
      "execution_count": 25,
      "id": "817d80e5-23e4-4737-919c-2ce130350f36",
      "metadata": {
        "colab": {
          "base_uri": "https://localhost:8080/"
        },
        "id": "817d80e5-23e4-4737-919c-2ce130350f36",
        "outputId": "e645c840-5aed-485b-c2fd-44a7652c4b27"
      },
      "outputs": [
        {
          "output_type": "execute_result",
          "data": {
            "text/plain": [
              "[1.5958267748355865]"
            ]
          },
          "metadata": {},
          "execution_count": 25
        }
      ],
      "source": [
        "\n",
        "total_test_loss = []\n",
        "test_running_loss = []\n",
        "for data in test_dataloader:\n",
        "    # Forward pass\n",
        "    output = model(data.x.to(torch.float32), data.edge_index, data.batch)\n",
        "    loss  = loss_fn(output.squeeze(), data.y)\n",
        "\n",
        "    # Track the running loss for the validation set\n",
        "    test_running_loss.append(loss.item())\n",
        "\n",
        "total_test_loss.append(mean(test_running_loss))\n",
        "total_test_loss"
      ]
    },
    {
      "cell_type": "code",
      "execution_count": 26,
      "id": "bea3f249-06fb-4fc1-8017-451afc4fb163",
      "metadata": {
        "colab": {
          "base_uri": "https://localhost:8080/"
        },
        "id": "bea3f249-06fb-4fc1-8017-451afc4fb163",
        "outputId": "a3e60790-14a3-4f35-8fff-ee9875a2b6b8"
      },
      "outputs": [
        {
          "output_type": "execute_result",
          "data": {
            "text/plain": [
              "[1.285673975944519,\n",
              " 1.1051467657089233,\n",
              " 1.6663212776184082,\n",
              " 1.025230884552002,\n",
              " 1.0256067514419556,\n",
              " 1.3496782779693604,\n",
              " 2.18566632270813,\n",
              " 1.475746989250183,\n",
              " 1.1611732244491577,\n",
              " 2.3103225231170654,\n",
              " 1.1080955266952515,\n",
              " 1.626777172088623,\n",
              " 1.5096380710601807,\n",
              " 1.6427910327911377,\n",
              " 1.503344178199768,\n",
              " 2.713670015335083,\n",
              " 2.736581802368164,\n",
              " 1.5025591850280762,\n",
              " 1.697357177734375,\n",
              " 1.2851543426513672]"
            ]
          },
          "metadata": {},
          "execution_count": 26
        }
      ],
      "source": [
        "test_running_loss"
      ]
    },
    {
      "cell_type": "code",
      "execution_count": 27,
      "id": "iQFQuV2oiGf8",
      "metadata": {
        "colab": {
          "base_uri": "https://localhost:8080/"
        },
        "id": "iQFQuV2oiGf8",
        "outputId": "f892bc4c-b652-476d-aeac-5578e6b5d91e"
      },
      "outputs": [
        {
          "output_type": "stream",
          "name": "stdout",
          "text": [
            "Train Batch Loss: 1.2851543426513672\n"
          ]
        }
      ],
      "source": [
        "print(f\"Train Batch Loss: {loss.item()}\")"
      ]
    },
    {
      "cell_type": "code",
      "execution_count": 28,
      "id": "XITBcj9uiPoW",
      "metadata": {
        "colab": {
          "base_uri": "https://localhost:8080/"
        },
        "id": "XITBcj9uiPoW",
        "outputId": "30ad5005-6fe5-4e25-ba36-702388802e12"
      },
      "outputs": [
        {
          "output_type": "stream",
          "name": "stdout",
          "text": [
            "Model Output: tensor([[-2.6121],\n",
            "        [-0.4468],\n",
            "        [-0.4024],\n",
            "        [ 1.3734],\n",
            "        [ 0.4686]], grad_fn=<SliceBackward0>)\n",
            "Target: tensor([-2.6242, -1.2378, -0.7929,  2.1951, -0.7690])\n"
          ]
        }
      ],
      "source": [
        "print(f\"Model Output: {output[:5]}\")\n",
        "print(f\"Target: {data.y[:5]}\")"
      ]
    },
    {
      "cell_type": "code",
      "execution_count": 29,
      "id": "Oa0LsiLpiuXm",
      "metadata": {
        "id": "Oa0LsiLpiuXm",
        "colab": {
          "base_uri": "https://localhost:8080/"
        },
        "outputId": "55b9ed35-37f6-471f-e219-5b0df90e9cab"
      },
      "outputs": [
        {
          "output_type": "stream",
          "name": "stdout",
          "text": [
            "Squared differences: tensor([1.4653e-04, 6.2563e-01, 1.5247e-01, 6.7520e-01, 1.5317e+00, 2.7534e+00,\n",
            "        1.2836e+00, 5.6861e-02, 3.3910e-02, 2.8774e+00, 3.0819e-02, 5.5287e-01,\n",
            "        1.0863e-01, 2.0465e-01, 8.7739e-02, 9.2452e-02, 3.6708e-02, 5.9132e-02,\n",
            "        1.0115e+00, 5.0857e-02, 8.2942e-01, 5.1198e-01, 7.8047e-01, 2.4966e-02,\n",
            "        2.8294e-02, 3.1661e-03, 1.0492e-01, 6.3834e-02, 1.7066e-01, 5.9380e-01,\n",
            "        3.1992e-02, 9.6108e-02, 6.5847e+00, 4.1656e-01, 4.4521e-01, 2.7911e-01,\n",
            "        1.7579e-01, 2.6280e-02, 1.1966e+00, 6.1806e-02, 1.3896e+01, 1.4866e-02,\n",
            "        7.3786e-02, 8.0235e-01, 1.0091e+00, 9.3986e-02, 3.7093e-01, 6.5052e-05,\n",
            "        1.8648e+00, 1.6549e-02, 3.7718e+00, 1.2860e+00, 1.0742e+00, 6.6948e-01,\n",
            "        3.2957e-04, 2.7258e-01, 5.4423e-01, 6.7644e-01, 7.2223e-01, 1.0101e+00,\n",
            "        1.2807e-02, 6.0622e-02, 5.3002e-01, 5.4660e-01, 4.1755e-01, 3.7655e+01,\n",
            "        4.1505e+00, 1.5884e+00, 1.8394e-01, 1.5893e+00, 6.8219e-02, 3.2548e-03,\n",
            "        6.4941e-02, 7.7732e+00, 2.2027e-05, 1.7713e+00, 7.2705e-02, 4.8892e-02,\n",
            "        9.1494e-01, 9.1466e-02, 9.9497e-01, 7.1112e-01, 9.6825e-01, 6.2230e-01,\n",
            "        8.6127e-01, 3.8832e-01, 1.5069e+00, 1.2673e-01, 1.3834e+00, 1.9557e+01,\n",
            "        2.7809e-01, 9.5210e-01, 2.3529e-02, 2.4545e-01, 3.4479e-01, 7.1939e-01,\n",
            "        6.6646e-04, 4.0776e+00, 7.4737e-01, 6.0322e-03, 1.0016e-02, 6.4981e-03,\n",
            "        9.3802e-01, 2.0201e-01, 9.7839e-01, 6.4904e-02, 1.8478e-02, 8.9867e+00,\n",
            "        1.9995e-01, 1.2148e+01, 1.5729e-05, 1.7579e-02, 4.8646e-01, 5.7836e-03,\n",
            "        4.3528e-02, 1.2209e-01, 1.7175e-03, 1.3031e+00, 2.2005e-01, 3.3584e-02,\n",
            "        1.0286e-01, 1.0713e-02, 4.0056e-01, 3.6063e-02, 6.8107e-06, 1.0879e+00,\n",
            "        2.0837e-01, 3.9954e-04, 8.6777e-02, 1.4271e-01, 4.2829e-01, 2.2081e-01,\n",
            "        1.8833e-04, 1.9874e-01, 4.6388e-02, 1.1431e+00],\n",
            "       grad_fn=<PowBackward0>)\n"
          ]
        }
      ],
      "source": [
        "loss = loss_fn(output.squeeze(), data.y)\n",
        "squared_diff = (output.squeeze() - data.y) ** 2\n",
        "print(f\"Squared differences: {squared_diff}\")"
      ]
    }
  ],
  "metadata": {
    "accelerator": "GPU",
    "colab": {
      "gpuType": "T4",
      "provenance": []
    },
    "kernelspec": {
      "display_name": "Python (myenv)",
      "language": "python",
      "name": "myenv"
    },
    "language_info": {
      "codemirror_mode": {
        "name": "ipython",
        "version": 3
      },
      "file_extension": ".py",
      "mimetype": "text/x-python",
      "name": "python",
      "nbconvert_exporter": "python",
      "pygments_lexer": "ipython3",
      "version": "3.9.20"
    }
  },
  "nbformat": 4,
  "nbformat_minor": 5
}